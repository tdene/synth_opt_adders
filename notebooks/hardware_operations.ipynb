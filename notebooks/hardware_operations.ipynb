{
 "cells": [
  {
   "cell_type": "markdown",
   "metadata": {
    "id": "jQN8hGT8d2SP",
    "tags": []
   },
   "source": [
    "# Logical synthesis of general hardware operations"
   ]
  },
  {
   "cell_type": "markdown",
   "metadata": {
    "id": "SXMaK0sMij9Z",
    "jp-MarkdownHeadingCollapsed": true,
    "tags": []
   },
   "source": [
    "## Theory"
   ]
  },
  {
   "cell_type": "markdown",
   "metadata": {
    "id": "JFXEbhTXd-XU"
   },
   "source": [
    "Multi-digit operations have a \"local\" and \"non-local\" component.\n",
    "\n",
    "The \"local\" component uses digit $i$ of the inputs to influence digit $i$ of the output.\n",
    "\n",
    "The \"non-local\" component uses non-$i$ digits of the inputs to influence digit $i$ of the output.<br>\n",
    "The **pptrees** library works under the assumption that this non-locality only goes in one direction, for example, that only digits less significant than $i$ influence the output. Operations that are non-local in both directions exist, and these must be handled by stacking two trees in series, one for each direction.\n",
    "\n"
   ]
  },
  {
   "cell_type": "markdown",
   "metadata": {
    "id": "N3w9JD-45-Rx"
   },
   "source": [
    "The **pptrees** library assumes that all strictly non-local components can be phrased in terms of if statements (nested ones, if needed).<br>\n",
    "A formal proof can most likely be derived from group cohomology theory, which I do not know sufficiently."
   ]
  },
  {
   "cell_type": "markdown",
   "metadata": {
    "id": "hBlRi-yDeIg5"
   },
   "source": [
    "The local and non-local components can be combined into the final result through a simple if-then statement:\n",
    "\n",
    "if the non-local component modifies the final result<br>\n",
    "then return a modified local result<br>\n",
    "else return the original local result<br>\n",
    "\n",
    "This if-then statement, or multiplexer logic gate, can have multiple branches, depending on how many ways the final result may be modified in. A formal approach to this problem can most likely be derived from group cohomology theory, which I do not know sufficiently."
   ]
  },
  {
   "cell_type": "markdown",
   "metadata": {
    "id": "8SQ3XIUP6Yl1"
   },
   "source": [
    "Because everything so far is composed of if-then statements, it can all associate.\n",
    "\n",
    "```\n",
    "if cond1:\n",
    "  if cond2:\n",
    "    if cond3:\n",
    "      if cond4:\n",
    "        do_this\n",
    "```\n",
    "\n",
    "is equivalent to\n",
    "\n",
    "```\n",
    "if cond1 and cond2:\n",
    "  if cond3 and cond4:\n",
    "    do_this\n",
    "```\n",
    "\n",
    "This is just one way in which if-then statements can associate.\n",
    "\n",
    "Note that this notebook will use the short-hand of<br>\n",
    "$s ?\\; a : b$<br>\n",
    "to mean\n",
    "```\n",
    "if s then a else b\n",
    "```"
   ]
  },
  {
   "cell_type": "markdown",
   "metadata": {
    "id": "WiocNSDUiln9",
    "jp-MarkdownHeadingCollapsed": true,
    "tags": []
   },
   "source": [
    "## The recipe for any operation"
   ]
  },
  {
   "cell_type": "markdown",
   "metadata": {
    "id": "-PGySiR-ipVj"
   },
   "source": [
    "1) Make sure that bit $i$ of the result only depends on bits $0$ through $i$ of the input.\n",
    "\n",
    "If this is not true, manually split the operation up into two parts, one that depends on bits $0$ through $i$ and another that depends on bits $i+1$ through $n$."
   ]
  },
  {
   "cell_type": "markdown",
   "metadata": {
    "id": "hcYbJtOmn7Ck"
   },
   "source": [
    "2) Figure out what part is local (output at bit $i$ only depends on bit $i$ of the inputs)."
   ]
  },
  {
   "cell_type": "markdown",
   "metadata": {
    "id": "9pDTU1H8rS4w"
   },
   "source": [
    "3) Obtain an expression for the final result at bit $i$ using the template<br>\n",
    "```\n",
    "if, the non-local component is X\n",
    "  then, the final result is something other than the local result, to be determined\n",
    "  otherwise, the final result is the local result\n",
    "```"
   ]
  },
  {
   "cell_type": "markdown",
   "metadata": {
    "id": "6X2dBMJjr8D3"
   },
   "source": [
    "4) Find an operation that answers the question \"is the non-local component X\"?\n",
    "\n",
    "Define this operation as an if-statement, or series of nested if-statements."
   ]
  },
  {
   "cell_type": "markdown",
   "metadata": {
    "id": "EEgp_obFsCqQ"
   },
   "source": [
    "5) Repeat steps 1 through 5 for this new operation if the formula has any non-local terms that are not itself.\n",
    "\n",
    "For example, the following formula would not need more work, since it's only written in terms of itself and local aspects:\n",
    "\n",
    "$f_i$ = if $s_i$ then $g_i$ else $f_{i-1}$, where $s_i$ and $g_i$ are local.\n",
    "\n",
    "While the following formula would need to be broken apart:\n",
    "\n",
    "$f_i$ = if $s_i$ then $g_i$ else $f_{i-1}$, where $g_i$ is non-local."
   ]
  },
  {
   "cell_type": "markdown",
   "metadata": {
    "id": "24ryijM0w1uM"
   },
   "source": [
    "6) Use if-statement association rules to associate this operation.\n",
    "\n",
    "This is explained more in the binary addition theory section."
   ]
  },
  {
   "cell_type": "markdown",
   "metadata": {
    "id": "eBXE41vm22Al",
    "jp-MarkdownHeadingCollapsed": true,
    "tags": []
   },
   "source": [
    "## Binary addition"
   ]
  },
  {
   "cell_type": "markdown",
   "metadata": {
    "id": "UYltRvjUiZZG"
   },
   "source": [
    "## Theory (skip if this is your first read?)"
   ]
  },
  {
   "cell_type": "markdown",
   "metadata": {
    "id": "X8i1W1666QNO"
   },
   "source": [
    "### Just addition"
   ]
  },
  {
   "cell_type": "markdown",
   "metadata": {
    "id": "BY2HSflq23sA"
   },
   "source": [
    "Let us define the operands of addition as the digit-vectors $a$, $b$, and the result as the digit-vector $s$."
   ]
  },
  {
   "cell_type": "markdown",
   "metadata": {
    "id": "MPVsCQ1m3Zq-"
   },
   "source": [
    "The local component of addition at digit $i$ is\n",
    "\n",
    "$s_i^L = a_i \\oplus b_i = p_i$"
   ]
  },
  {
   "cell_type": "markdown",
   "metadata": {
    "id": "ZpzNznuF3vD5"
   },
   "source": [
    "The non-local component of addition at digit $i$ can be expressed as\n",
    "\n",
    "$s^{nL}_i = c_i$\n",
    "\n",
    "Where $c$ stands for \"carry\"."
   ]
  },
  {
   "cell_type": "markdown",
   "metadata": {
    "id": "YQrs9_Eb4Kuo"
   },
   "source": [
    "The final result of addition is $s_i = s^{nL}_i ?\\; \\overline{s}^L_i : s^L_i$, or in other words<br>\n",
    "$c_i ?\\; \\overline{p}_i : p_i$\n",
    "\n",
    "If there's no carry, keep the local component.<br>\n",
    "If there's a carry, negate the local component, since negating is the same thing as adding 1."
   ]
  },
  {
   "cell_type": "markdown",
   "metadata": {
    "id": "9gLGG9R44qbE"
   },
   "source": [
    "### Carry-generation (non-local aspect of addition)"
   ]
  },
  {
   "cell_type": "markdown",
   "metadata": {
    "id": "pYzzuHjh4t8M"
   },
   "source": [
    "Let us define the operands of carry-generation as the digit-vectors $a$, $b$, and the result as the digit-vector $c$."
   ]
  },
  {
   "cell_type": "markdown",
   "metadata": {
    "id": "0f2TJS5T4w3J"
   },
   "source": [
    "There is no local component of the carry, it only depends on previous digits."
   ]
  },
  {
   "cell_type": "markdown",
   "metadata": {
    "id": "piLNiOxH4x-P"
   },
   "source": [
    "The non-local component of addition at digit $i$ in plain English is:\n",
    "\n",
    "If the previous pair of digits adds up to 0 (that is, $\\overline{a\\oplus b}$),<br>\n",
    "there is a carry out of them if both of the digits are 1.\n",
    "\n",
    "Otherwise, the pair of digits adds up to 1.<br>\n",
    "Then, the carry coming out of them is the same as the carry going into them.<br>\n",
    "Whether or not they overflow depends on whether or not the previous pair of digits also overflowed.\n",
    "\n",
    "$c_i = \\overline{p}_{i-1} ?\\; g_{i-1} : c_{i-1}$\n",
    "\n",
    "Where $p_i = a_i \\oplus b_i$ from before, while $g_i = a_i \\wedge b_i$."
   ]
  },
  {
   "cell_type": "markdown",
   "metadata": {
    "id": "JOQJyrX1QjVr"
   },
   "source": [
    "Since only $c_0$ is known a priori, all $c_i$ must be expressed in terms of it.\n",
    "\n",
    "For example, $c_5 = \\overline{p}_4 ?\\; g_4 : \\left(\\overline{p}_3 ?\\; g_3 : \\left(\\overline{p}_2 ?\\; g_2 : \\left(\\overline{p}_1 ?\\; g_1 : \\left(c_0\\right)\\right)\\right)\\right)$\n",
    "\n",
    "This is where associativity comes into play."
   ]
  },
  {
   "cell_type": "markdown",
   "metadata": {
    "id": "vVcgsrUNA9lO"
   },
   "source": [
    "These if-statements\n",
    "\n",
    "```\n",
    "if not p_4:\n",
    "  g_4\n",
    "elif not p_3:\n",
    "  g_3\n",
    "elif not p_2:\n",
    "  g_2\n",
    "elif not p_1:\n",
    "  g_1\n",
    "else:\n",
    "  c_0\n",
    "```\n",
    "\n",
    "are equivalent to\n",
    "\n",
    "```\n",
    "if not p_4 or not p_3:\n",
    "  not p_4 ? g_4 : g_3\n",
    "elif not p_2 or not p_1:\n",
    "  not p_2 ? g_2 : g_1\n",
    "else:\n",
    "  c_0\n",
    "```\n"
   ]
  },
  {
   "cell_type": "markdown",
   "metadata": {
    "id": "zfslYTwpBcXZ"
   },
   "source": [
    "Long story short, the general rule is the following.\n",
    "\n",
    "Instead of $c_5$, call it $c_{5:0}$.<br>\n",
    "The weird $\\overline{p}_2 ?\\; g_2 : g_1$ thing? Call it $c_{3:2}$.<br>\n",
    "$g_1$? Call it $c_{2:2}$. $g_2$? Call it $c_{3:3}$.\n",
    "\n",
    "The whole ($\\overline{p}_3$ or $\\overline{p}_2$ or $\\overline{p}_1$)? Call it $\\overline{p}_{3:1}$."
   ]
  },
  {
   "cell_type": "markdown",
   "metadata": {
    "id": "tGZnB7nBc7qq"
   },
   "source": [
    "The recurrence then becomes\n",
    "\n",
    "$c_{i:k} = \\overline{p}_{i-1:j-1} ?\\; c_{i:j} : c_{j:k}$\n",
    "\n",
    "We must also then keep track of $p_{i:k}$:\n",
    "\n",
    "$\\overline{p}_{i:k} = \\overline{p}_{i:j} + \\overline{p}_{j:k}$\n",
    "\n",
    "Or to put it all together in terms of some operator, ■\n",
    "\n",
    "$(c_{i:k}, \\overline{p}_{i-1:k-1}) = (c_{i:j}, \\overline{p}_{i-1:j-1}) ■ (c_{j:k}, \\overline{p}_{j-1:k-1}) = (\\overline{p}_{i-1:j-1} ?\\; c_{i:j} : c_{j:k}\\;,\\; \\overline{p}_{i-1:j-1} + \\overline{p}_{j-1:k-1})$\n",
    "\n",
    "Or even shorter\n",
    "\n",
    "$(C, \\overline{P}) ■ (C', \\overline{P'}) = (\\overline{P} \\;?\\; C : C', \\overline{P} + \\overline{P'})$"
   ]
  },
  {
   "cell_type": "markdown",
   "metadata": {
    "id": "MfP8IYUwc6EH"
   },
   "source": [
    "Sorry about the off-by-one issue, that's just carry-generation for ya.\n",
    "\n",
    "In general though, this is how if statements associate.<br>\n",
    "This applies for all operations that are non-local in a single direction."
   ]
  },
  {
   "cell_type": "markdown",
   "metadata": {
    "id": "dzrgJczP8ajP"
   },
   "source": [
    "For carry-generation **in particular**, the previous statement can be simplfied.<br>\n",
    "Expanding out the boolean logic, we have:<br>\n",
    "$c_{i:k} = \\overline{p}_{i-1:j-1} ?\\; c_{i:j} : c_{j:k} = \\overline{p}_{i-1:j-1} c_{i:j} + p_{i-1:j-1}c_{j:k}$\n",
    "\n",
    "However, $\\overline{p}_{i-1:j-1}$ and $c_{i:j}$ are mutually exclusive. The formula is thus reduced to:\n",
    "\n",
    "$(C, P) ■ (C', P') = (C + PC', PP')$\n",
    "\n",
    "The boolean algebra works out, even though it's not shown here."
   ]
  },
  {
   "cell_type": "markdown",
   "metadata": {
    "id": "7sg_1toJidgx"
   },
   "source": [
    "## Using the recipe"
   ]
  },
  {
   "cell_type": "markdown",
   "metadata": {
    "id": "qqIhKBmasKa3"
   },
   "source": [
    "1) Bit $i$ of the sum only depends on bits 0 through $i$ of the input."
   ]
  },
  {
   "cell_type": "markdown",
   "metadata": {
    "id": "f1EhAc9asVcA"
   },
   "source": [
    "2) $s^L_i = a_i\\oplus b_i = p_i$ is the local aspect."
   ]
  },
  {
   "cell_type": "markdown",
   "metadata": {
    "id": "il2Y7H6fsbMi"
   },
   "source": [
    "3)\n",
    "```\n",
    "if the carry into bit i, henceforth called c_i, is 1\n",
    "  then, the final result is the inverse of the local result\n",
    "  otherwise, the final result is the local result\n",
    "```\n",
    "\n",
    "In other words, $s_i = c_i ?\\; \\overline{p}_i : p_i$"
   ]
  },
  {
   "cell_type": "markdown",
   "metadata": {
    "id": "Hc0bz3xusyZ4"
   },
   "source": [
    "4) $c_i$ can be defined as\n",
    "```\n",
    "if the local sum of the i-1 pair of input bits is 0\n",
    "  then, c_i is 1 if both the bits are 1 [1 + 1 = 0 with an overflow]\n",
    "  otherwise, the local sum of the i-1 pair would be 1,\n",
    "    so c_i happens only if c_i-1 happens\n",
    "```\n",
    "\n",
    "In other words, $c_i = \\overline{p}_i ?\\; g_i : c_{i-1}$\n",
    "\n",
    "Where $p_i = a_i \\oplus b_i$ and $g_i = a_i \\wedge b_i$"
   ]
  },
  {
   "cell_type": "markdown",
   "metadata": {
    "id": "Ss1_yBAKtzgo"
   },
   "source": [
    "5) $c_i$ has no other non-local aspects, so it is fine."
   ]
  },
  {
   "cell_type": "markdown",
   "metadata": {
    "id": "YdSu7iGu2HZk"
   },
   "source": [
    "6) The previous section shows how step 4's definition of $c_i$ becomes\n",
    "\n",
    "$(C, \\overline{P}) ■ (C', \\overline{P'}) = (\\overline{P} \\;?\\; C : C', \\overline{P} + \\overline{P'})$\n",
    "\n",
    "and can then be simplified to\n",
    "\n",
    "$(C, P) ■ (C', P') = (C + PC', PP')$"
   ]
  },
  {
   "cell_type": "markdown",
   "metadata": {
    "id": "SZzD6_od9ddg"
   },
   "source": [
    "## Putting it all together"
   ]
  },
  {
   "cell_type": "markdown",
   "metadata": {
    "id": "qV_Be6yD-pID"
   },
   "source": [
    "The **pptrees** library defines an *AdderTree* as an *ExpressionTree* with the following nodes:\n",
    "```\n",
    "        node_defs = {\n",
    "            \"pre\": \"ppa_pre\",\n",
    "            \"root\": \"ppa_post\",\n",
    "            \"cocycle\": \"ppa_cocycle\",\n",
    "            \"buffer\": \"ppa_buffer\",\n",
    "            \"lspine_pre\": \"ppa_lspine_pre\",\n",
    "            \"lspine\": \"ppa_lspine\",\n",
    "            \"small_root\": \"ppa_small_root\",\n",
    "            \"small_pre\": \"ppa_lspine_pre_simple\",\n",
    "        }\n",
    "```"
   ]
  },
  {
   "cell_type": "markdown",
   "metadata": {
    "id": "e8aujMLN9gvn"
   },
   "source": [
    "A couple of short-hands were introduced in the recipe: $p_i = a_i \\oplus b_i$ and $g_i = a_i \\wedge b_i$.<br>\n",
    "This is \"pre-processing\" logic. These form the leafs of the tree.<br>\n",
    "They are represented by the \"ppa_pre\" node."
   ]
  },
  {
   "cell_type": "markdown",
   "metadata": {
    "id": "Y3vaS-Q0_F_U"
   },
   "source": [
    "Step 3 of the recipe obtains an expression for the final result.\n",
    "\n",
    "This is \"post-processing\" logic. This forms the root of the tree.<br>\n",
    "It is represented by the \"ppa_post\" node."
   ]
  },
  {
   "cell_type": "markdown",
   "metadata": {
    "id": "jlTOKSIQAXkT"
   },
   "source": [
    "Step 2 of the recipe describes the local aspect of the operation.\n",
    "\n",
    "This is represented by the \"ppa_lspine_pre\" node."
   ]
  },
  {
   "cell_type": "markdown",
   "metadata": {
    "id": "4CdwVL_wAsNe"
   },
   "source": [
    "Step 6 of the recipe describes the non-local aspect of the operation.\n",
    "\n",
    "This is represented by the \"ppa_cocycle\" node."
   ]
  },
  {
   "cell_type": "markdown",
   "metadata": {
    "id": "Xj3lhH8pA18M"
   },
   "source": [
    "The \"ppa_buffer\" node is used for fan-out decoupling.\n",
    "\n",
    "Since \"ppa_cocycle\" node operates on tuples of size 2, so does \"ppa_buffer\"."
   ]
  },
  {
   "cell_type": "markdown",
   "metadata": {
    "id": "lIgnVtGpf7xN"
   },
   "source": [
    "\"ppa_lspine\" takes advantage of the fact that \"cocycle\", \"root\", and \"lspine_pre\" can all be seen as if-then statements. That means they can all associate. This is a concept that has not been introduced thus far, because it's just a cherry on top that can be discussed separately."
   ]
  },
  {
   "cell_type": "markdown",
   "metadata": {
    "id": "CBQHZxMNgTrx"
   },
   "source": [
    "\"ppa_small_root\" and \"ppa_small_pre\" account for the fact that a width-1 circuit doesn't form a binary tree.<br>\n",
    "There's only one leaf, so it's just the root node and 1 child.\n",
    "\n",
    "Perhaps the software should be able to handle this on its own, somehow, but it is currently not able."
   ]
  },
  {
   "cell_type": "markdown",
   "metadata": {
    "id": "Zt3MwqN19hDF",
    "tags": []
   },
   "source": [
    "# Possible expansion: addition-based comparator "
   ]
  },
  {
   "cell_type": "markdown",
   "metadata": {
    "id": "yiPa1k3N4g8e"
   },
   "source": [
    "## Discussion"
   ]
  },
  {
   "cell_type": "markdown",
   "metadata": {
    "id": "hx9LGn5xHiql"
   },
   "source": [
    "A comparator compares two numbers, gauging whether one is greater, less than, or equal to the other."
   ]
  },
  {
   "cell_type": "markdown",
   "metadata": {
    "id": "hTc_M9hq43wp"
   },
   "source": [
    "Checking whether a number is greater than another can be done via addition.<br>\n",
    "Just subtract B from A.<br>\n",
    "If the result is negative, B > A.<br>\n",
    "Otherwise, not (B > A)."
   ]
  },
  {
   "cell_type": "markdown",
   "metadata": {
    "id": "EWucUlO85DiA"
   },
   "source": [
    "Subtracting two numbers via two's complement addition is straight-forward:\n",
    "\n",
    "1.   Invert $B$ into $\\overline{B}$\n",
    "2.   Add $A + \\overline{B} + 1$.\n",
    "\n",
    "The \"+1\" can be handled by adding an extra digit to the addition operation.\n",
    "\n",
    "That digit can be real, in which case both A and B would have a least-significant $1$ appended to them.\n",
    "\n",
    "That digit could instead be virtual: an extra leaf is added to the carry-chain tree, with the leaf output being a constant $1$ instead of $a_{-1} \\wedge b_{-1}$\n",
    "\n"
   ]
  },
  {
   "cell_type": "markdown",
   "metadata": {
    "id": "8f3_EA_A6-CA"
   },
   "source": [
    "Finally, binary addition of two $n$-bit numbers has an $n$-bit result.\n",
    "\n",
    "But comparators only need 1 bit of result.<br>\n",
    "So the structure necessary isn't $n$ trees, but rather only 1 tree.\n",
    "\n",
    "The specific bit that needs to be checked depends on whether the numbers are signed or unsigned."
   ]
  },
  {
   "cell_type": "markdown",
   "metadata": {
    "id": "qjXsCaNP9obA"
   },
   "source": [
    "For unsigned numbers, A - B can be performed using two's complement subtraction.<br>\n",
    "This will require both the \"+1\" padding trick, as well as an extra sign bit on the most-significant side.\n",
    "\n",
    "B > A if the operation overflows into the sign bits.<br>\n",
    "But since the sign bits are both 0, we don't need to calculate the actual sum, just the carry.\n",
    "\n",
    "The answer is \"B > A = $c_{n+1}$\", the result of a $n+1$ bit carry generation."
   ]
  },
  {
   "cell_type": "markdown",
   "metadata": {
    "id": "faMRMyxx-f0b"
   },
   "source": [
    "For signed numbers, A - B can be performed using two's complement subtraction.<br>\n",
    "This will require the \"+1\" padding trick.\n",
    "\n",
    "But that can only work if $A$ and $B$ are both positive or negative.<br>\n",
    "If the two numbers are of opposite polarity, some magic is required."
   ]
  },
  {
   "cell_type": "markdown",
   "metadata": {
    "id": "q4Q_G4hM4dsJ"
   },
   "source": [
    "## Using the recipe (unsigned numbers)"
   ]
  },
  {
   "cell_type": "markdown",
   "metadata": {
    "id": "HgGGwDz4Dw8r"
   },
   "source": [
    "The recipe doesn't need to be used per se.<br>\n",
    "This is just the carry-generation portion of an adder."
   ]
  },
  {
   "cell_type": "markdown",
   "metadata": {
    "id": "tEgmJ8zdIY8V"
   },
   "source": [
    "## Putting it all together"
   ]
  },
  {
   "cell_type": "markdown",
   "metadata": {
    "id": "UWnIiBNuId4l"
   },
   "source": [
    "The tree would just be a variant on the *AdderTree*.\n",
    "\n",
    "The main differences are:\n",
    "\n",
    "*   Signed numbers should be handled in some way.\n",
    "*   lspine_pre and lspine can be omitted, making them use the normal nodes.<br>\n",
    "This changes it from an addition circuit to a carry-computation circuit.\n",
    "*   The software should invert one of the inputs on its own, in a modified pre-processing node, instead of forcing the user to do it in HDL.\n",
    "*   The software should pad the least-significant bit on its own, to account for the +1.<br>\n",
    "This can be done by increasing the width by 1 and throwing in an extra pre node.<br>\n",
    "The extra pre node should perform the operation `assign gout = 1`.\n",
    "*   The tree should always be balanced, because that's just the best option if there's only one tree.<br>\n",
    "Left-balanced vs right-balanced shouldn't make a difference.\n",
    "*   The circuit should be a forest consisting of one tree, because writing out HDL from Forests is tested, but writing out HDL from Trees is not.\n",
    "This is just a cautionary note due to the beta version of the software.\n"
   ]
  },
  {
   "cell_type": "markdown",
   "metadata": {
    "id": "oFD_NnAAEzkF"
   },
   "source": [
    "## Analysis (unsigned numbers)"
   ]
  },
  {
   "cell_type": "markdown",
   "metadata": {
    "id": "caaeiEdUFBgj"
   },
   "source": [
    "The circuit is a single tree, of width $n+1$.\n",
    "\n",
    "The tree is a carry-generation tree, where the cocycle nodes are an AOI and NAND cell each.\n",
    "\n",
    "Note that this circuit ONLY calculates B > A, not also A > B nor B = A."
   ]
  },
  {
   "cell_type": "markdown",
   "metadata": {
    "id": "vimoG-ftE1o0"
   },
   "source": [
    "### Area"
   ]
  },
  {
   "cell_type": "markdown",
   "metadata": {
    "id": "20A4fVJWE6Mg"
   },
   "source": [
    "A single tree of width $n+1$ has $n$ nodes.<br>\n",
    "The pre-processing logic leads to $n+1$ leafs, since the 0th is special (+1).\n",
    "\n",
    "Each tree node is basically an AOI and a NAND.<br>\n",
    "Each tree leaf is basically two NANDs.\n",
    "\n",
    "The total area is thus roughly 3n NANDs + n AOIs."
   ]
  },
  {
   "cell_type": "markdown",
   "metadata": {
    "id": "O4pDlUS0NyjT"
   },
   "source": [
    "A complete adder-based circuit would have roughly 2n + 2n lg(n) NANDs, 2n lg(n) AOIs, and n XORs.\n",
    "\n",
    "The area savings over a complete adder would thus be roughly:\n",
    "\n",
    "*   n XOR gates\n",
    "*   2n lg(n) - n AOI gates\n",
    "*   2n lg(n) - n NAND gates\n",
    "\n",
    "For a 64-bit word size, this is roughly an 85% area savings."
   ]
  },
  {
   "cell_type": "markdown",
   "metadata": {
    "id": "GxL0qDqLGnK4"
   },
   "source": [
    "### Delay"
   ]
  },
  {
   "cell_type": "markdown",
   "metadata": {
    "id": "VeOWv0LHGp8F"
   },
   "source": [
    "The critical path through the tree requires $\\lceil lg(n+1)\\rceil$ AOI nodes.<br>\n",
    "Pre-processing add one NAND node.<br>\n",
    "There is no fan-out or wire tracks.\n",
    "\n",
    "The total delay is thus roughly $1 + \\lceil lg(n+1)\\rceil$"
   ]
  },
  {
   "cell_type": "markdown",
   "metadata": {
    "id": "fMKB6yRzmceA"
   },
   "source": [
    "A complete adder-based circuit would have the same critical path.\n",
    "\n",
    "However, that critical path would be fraught with fan-out and tracks.\n",
    "\n",
    "For a 64-bit word size, that represents a roughly 20-25% difference in delay."
   ]
  },
  {
   "cell_type": "markdown",
   "metadata": {
    "id": "vF_gzOc6HkW5",
    "tags": []
   },
   "source": [
    "# Possible expansion: non addition-based comparator"
   ]
  },
  {
   "cell_type": "markdown",
   "metadata": {
    "id": "BDW_rPEZHkW5"
   },
   "source": [
    "## Discussion"
   ]
  },
  {
   "cell_type": "markdown",
   "metadata": {
    "id": "4D0AwxKtHkW5"
   },
   "source": [
    "This typically takes the form of adding a constant +1 to increment,<br>\n",
    "or adding a constant +4 to the program counter."
   ]
  },
  {
   "cell_type": "markdown",
   "metadata": {
    "id": "fBL20xrdHkW5"
   },
   "source": [
    "The benefit of knowing the constant value, $B$, being added is:\n",
    "\n",
    "*   Anywhere where $b_i = 0$, $g_i = a_i \\wedge b_i = 0$, while $p_i = a_i \\oplus b_i = a_i$\n",
    "*   Anywhere where $b_i = 1$, $g_i = a_i \\wedge b_i = a_i$, while $p_i = a_i \\oplus b_i = \\overline{a}_i$"
   ]
  },
  {
   "cell_type": "markdown",
   "metadata": {
    "id": "J34q7-yTH1y4"
   },
   "source": [
    "Let's call $G = (B > A)$, $L = (B < A)$, and $E = (A == B)$"
   ]
  },
  {
   "cell_type": "markdown",
   "metadata": {
    "id": "tbPvGnVyox8d"
   },
   "source": [
    "But wait.<br>\n",
    "If we look at the most significant bits of $B$ and $A$, and $B > A$, then it is certain that $B > A$.\n",
    "\n",
    "So the non-local component doesn't come from the less significant bits like it does for addition or carry-generation.<br>\n",
    "It comes from the more significant bits.\n",
    "\n",
    "What can be done about this?\n",
    "\n",
    "Easy: just reverse the bit string."
   ]
  },
  {
   "cell_type": "markdown",
   "metadata": {
    "id": "_2Kt5ngtHwdF"
   },
   "source": [
    "## Using the recipe"
   ]
  },
  {
   "cell_type": "markdown",
   "metadata": {
    "id": "vadXDmGcHwdN"
   },
   "source": [
    "1) $G$ and $L$ only get affected by more-significant bits, never by less-significant bits.\n",
    "\n",
    "Reversing the inputs into the tree can make the data flow into its standard direction that is assumed by **pptrees**."
   ]
  },
  {
   "cell_type": "markdown",
   "metadata": {
    "id": "HakrLGiGHwdN"
   },
   "source": [
    "2) The local aspects are\n",
    "\n",
    "$G_i^L = \\overline{a}_ib_i$\n",
    "\n",
    "$L_i^L = a_i\\overline{b}_i$\n",
    "\n",
    "Explanation: the only way $b_i > a_i$ is if $b_i = 1$ and $a_i = 0$."
   ]
  },
  {
   "cell_type": "markdown",
   "metadata": {
    "id": "3DVac6Z2HwdN"
   },
   "source": [
    "3)\n",
    "```\n",
    "if the non-local component is (not E)\n",
    "  then, the final result is not the local result\n",
    "  otherwise, the final result is the local result\n",
    "```\n",
    "\n",
    "For both $G$ and $L$ the situation is the same.<br>\n",
    "Even if, locally, $G$ is true, that only matters if the non-local $E$ is false.<br>\n",
    "\n",
    "That is to say, the less-significant digits only matter if the more-significant digits are all equals.\n",
    "\n",
    "The math then is\n",
    "\n",
    "$G_i  = \\overline{E}_{i+1} ?\\; G_{i+1} : G^L_{i}$\n",
    "\n",
    "$L_i  = \\overline{E}_{i+1} ?\\; L_{i+1} : L^L_{i}$"
   ]
  },
  {
   "cell_type": "markdown",
   "metadata": {
    "id": "ziNX044VHwdO"
   },
   "source": [
    "4) $E_i$ can be defined as\n",
    "```\n",
    "if (not G_i) and (not L_i)\n",
    "  then, E\n",
    "  otherwise, (not E)\n",
    "```\n",
    "\n",
    "In other words, $E_i = \\overline{G}_i\\overline{L}_i ? \\; 1 : 0$\n",
    "\n",
    "Or to simplify it, $E_i = \\overline{G}_i\\overline{L}_i$"
   ]
  },
  {
   "cell_type": "markdown",
   "metadata": {
    "id": "GnDEwmaZHwdO"
   },
   "source": [
    "5) At first glance, in step 3, it seems like $E$ is going to need its own separate tree.\n",
    "\n",
    "But $E$ only depends on $G$ and $L$.\n",
    "\n",
    "That is why we are computing both $G$ and $L$ at the same time.<br>\n",
    "Because they're both needed anyway."
   ]
  },
  {
   "cell_type": "markdown",
   "metadata": {
    "id": "Hb7WLNGmHwdO"
   },
   "source": [
    "6) Let's just go through the math, even if you already see the answer.\n",
    "\n",
    "$(G, L, \\overline{E}) ■ (G', L', \\overline{E'}) = (\\overline{E'} \\;?\\; G' : G, \\overline{E'} \\;?\\; L' : L, \\overline{E} + \\overline{E'})$\n",
    "\n",
    "expanding this once:\n",
    "\n",
    "$(G, L, \\overline{E}) ■ (G', L', \\overline{E'}) = (\\overline{E'}G' + E'G, \\overline{E'}L' + E'L, \\overline{E} + \\overline{E'})$\n",
    "\n",
    "substituting the definition of $E$, into just one part for brevity:\n",
    "\n",
    "$(G,\\;,\\;) ■ (G',\\;,\\;) = ((G'+L')G' + \\overline{G'}\\overline{L'}G,\\;,\\;) = (G' + \\overline{G'}\\overline{L'}G,\\;,\\;) = (G' + \\overline{L'}G,\\;,\\;)$\n",
    "\n",
    "It turns out that we no longer need $E$ at all, so we can eliminate it from our consideration.\n",
    "\n",
    "$(G,L) ■ (G',L') = (G' + \\overline{L'}G, L' + \\overline{G'}L)$"
   ]
  },
  {
   "cell_type": "markdown",
   "metadata": {
    "id": "mD0HgFZD0c3G"
   },
   "source": [
    "## Putting it all together"
   ]
  },
  {
   "cell_type": "markdown",
   "metadata": {
    "id": "427V8xDR0c3O"
   },
   "source": [
    "The tree would inherit *AdderTree*.\n",
    "\n",
    "The main differences from *AdderTree* are:\n",
    "\n",
    "*   New nodes would need to be defined for pre-processing a constant bit of 1, pre-processing a constant bit of 0, and the two modified ■ nodes.\n",
    "*   The optimize_nodes() method would first call its super(), then it'd do additional things:\n",
    "\n",
    "1.   Somehow take in info about where the constant has 1's and 0's, and morph the pre-processing nodes.\n",
    "2.   Keep track of whether there's a chain of 0's on-going (can be done through the nodes' *leafs* attributes, which is a binary-encoded list of all the leafs that feed into a certain node), and then morphs the ■ node accordingly.\n",
    "\n"
   ]
  },
  {
   "cell_type": "markdown",
   "metadata": {
    "id": "Y_ODFXnEHkW6"
   },
   "source": [
    "## Analysis (unsigned numbers)"
   ]
  },
  {
   "cell_type": "markdown",
   "metadata": {
    "id": "W6VVGZvpHkW6"
   },
   "source": [
    "The circuit is a single tree, of width $n$.\n",
    "\n",
    "The cocycle (main node) of the tree is composed of two AOI cells, possibly with some inverters, but smart synthesis can eliminate the need for inverters.\n",
    "\n",
    "The pre-processing nodes seem to be two NAND2B cells, but in order to enable smart synthesis of the tree, it's better to make them two NAND cells and an inverter.\n",
    "\n",
    "Note that this circuit calculates both B > A and A > B.<br>\n",
    "This is in contrast to the previous section, which cannot calculate both of these values.<br>\n",
    "Thus in a normal application, this circuit on its own would suffice, while the circuit from the previous section would need to be duplicated.<br>\n",
    "Take this into account when considering the values presented below."
   ]
  },
  {
   "cell_type": "markdown",
   "metadata": {
    "id": "vxeEyZv6HkW6"
   },
   "source": [
    "### Area"
   ]
  },
  {
   "cell_type": "markdown",
   "metadata": {
    "id": "Kn_q9QaTHkW6"
   },
   "source": [
    "A single tree of width $n$ has $n$ nodes.<br>\n",
    "The pre-processing logic leads to $n+1$ leafs.\n",
    "\n",
    "Each tree node is basically two AOIs.<br>\n",
    "Each tree leaf is basically two NANDs and an inverter.\n",
    "\n",
    "The total area is thus roughly 2n NANDs + 2n AOIs + n INVs."
   ]
  },
  {
   "cell_type": "markdown",
   "metadata": {
    "id": "Z9uDtL_m0fRf"
   },
   "source": [
    "For a 64-bit word size, this is about 50% larger than the previous section, but still about 80-85% smaller than a complete adder-based circuit."
   ]
  },
  {
   "cell_type": "markdown",
   "metadata": {
    "id": "UTYuX7o40h38"
   },
   "source": [
    "### Delay"
   ]
  },
  {
   "cell_type": "markdown",
   "metadata": {
    "id": "DTM4LMQl0h38"
   },
   "source": [
    "The critical path through the tree requires $\\lceil lg(n)\\rceil$ AOI nodes.<br>\n",
    "Pre-processing adds one NAND node and one INV node.<br>\n",
    "There is no fan-out or wire tracks.\n",
    "\n",
    "The total delay is thus roughly $2 + \\lceil lg(n)\\rceil$."
   ]
  },
  {
   "cell_type": "markdown",
   "metadata": {
    "id": "Hziw3Ou80h38"
   },
   "source": [
    "This is slightly faster than the previous section for word-size that is a power of 2, and slightly slower for other word sizes.\n",
    "\n",
    "It remains an estimated 20-25% faster than a complete adder-based circuit."
   ]
  },
  {
   "cell_type": "markdown",
   "metadata": {
    "id": "02bEuKv0HkW6"
   },
   "source": [
    "### Delay"
   ]
  },
  {
   "cell_type": "markdown",
   "metadata": {
    "id": "jyumN6I4HkW7"
   },
   "source": [
    "The critical path through the tree requires $\\lceil lg(n+1)\\rceil$ AOI nodes.<br>\n",
    "Pre-processing add one NAND node.<br>\n",
    "There is no fan-out.\n",
    "\n",
    "The total delay is thus roughly $1 + \\lceil lg(n+1)\\rceil$"
   ]
  },
  {
   "cell_type": "markdown",
   "metadata": {
    "id": "vF_gzOc6HkW5",
    "tags": []
   },
   "source": [
    "# Possible expansion: adding a constant value"
   ]
  },
  {
   "cell_type": "markdown",
   "metadata": {
    "id": "BDW_rPEZHkW5"
   },
   "source": [
    "## Discussion"
   ]
  },
  {
   "cell_type": "markdown",
   "metadata": {
    "id": "4D0AwxKtHkW5"
   },
   "source": [
    "This typically takes the form of adding a constant +1 to increment,<br>\n",
    "or adding a constant +4 to the program counter."
   ]
  },
  {
   "cell_type": "markdown",
   "metadata": {
    "id": "fBL20xrdHkW5"
   },
   "source": [
    "The benefit of knowing the constant value, $B$, being added is:\n",
    "\n",
    "*   Anywhere where $b_i = 0$, $g_i = a_i \\wedge b_i = 0$, while $p_i = a_i \\oplus b_i = a_i$\n",
    "*   Anywhere where $b_i = 1$, $g_i = a_i \\wedge b_i = a_i$, while $p_i = a_i \\oplus b_i = \\overline{a}_i$"
   ]
  },
  {
   "cell_type": "markdown",
   "metadata": {
    "id": "XM5HFkRjYToY"
   },
   "source": [
    "This allows for the pre-processing logic at those specific spots to be optimized.\n",
    "\n",
    "But the $b_i = 0 \\implies g_i = 0$ is interesting. Continuous chains of $b_i = 0$ lead to continuous chains of $g_i = 0$. And continuous chains of $g_i = 0$ means large sub-blocks of $C_{i:j} = 0$.\n",
    "\n",
    "To show this, consider:\n",
    "\n",
    "$C_{i:i} = g_{i-1}$\n",
    "\n",
    "$C_{i:i-1} = C_{i:i} + P_{i-1:i-1} C_{i-1:i-1}$\n",
    "\n",
    "If both those corresponding $g$ bits are 0, due to the constant value, then the entire $C_{i:i-1}$ block is 0. Entire $C_{i:j}$ blocks can be hard-coded to 0 in this way."
   ]
  },
  {
   "cell_type": "markdown",
   "metadata": {
    "id": "pBRO2zeiZuPH"
   },
   "source": [
    "So the pre-processing logic optimization is clear.\n",
    "\n",
    "But this tree, cocycle node optimization.\n",
    "\n",
    "First off, the previous cell leads to the conclusion that $C_{i:j}$ is 0 if $g_{i-1}$ through $g_{j-1}$ are all zero. So if such a chain is encountered in the tree logic, the normal cocycle node of\n",
    "\n",
    "$(C, P) ■ (C', P') = (C + PC', PP')$\n",
    "\n",
    "can be reduced to\n",
    "\n",
    "$(, P) ■ (, P') = (, PP')$\n",
    "\n",
    "This saves area and power for sure. Probably delay, it's hard to tell?"
   ]
  },
  {
   "cell_type": "markdown",
   "metadata": {
    "id": "vKTmIkBUad6y"
   },
   "source": [
    "But once the chain of zeroes ends, and these weird nodes must combine with the rest of the tree, what do we do?\n",
    "\n",
    "Say, for example, we have the addition $A + 0000\\;0100$\n",
    "\n",
    "There's a chain of 5 zeroes in the front. Let's look at that.<br>\n",
    "We handle it as above, simplifying ■.<br>\n",
    "How do we combine it with the stuff on the right?\n",
    "\n",
    "In other words, what is\n",
    "\n",
    "$(, P) ■ (C', P')$\n",
    "\n",
    "Well, we know that missing $C$ is 0. So it's just\n",
    "\n",
    "$(0, P) ■ (C', P') = (PC', PP')$"
   ]
  },
  {
   "cell_type": "markdown",
   "metadata": {
    "id": "gluIAieYbBRF"
   },
   "source": [
    "A similar effect can occur for chain of 1's, but that's a topic for another day."
   ]
  },
  {
   "cell_type": "markdown",
   "metadata": {
    "id": "2yX7FzLJbKZD"
   },
   "source": [
    "## Using the recipe"
   ]
  },
  {
   "cell_type": "markdown",
   "metadata": {
    "id": "fV45eIoMbKZE"
   },
   "source": [
    "The recipe doesn't need to be used per se.\n",
    "\n",
    "Yes, the ■ operator changes. But it can be thought of as just a synthesis optimization, something to be done after the tree structure is generated."
   ]
  },
  {
   "cell_type": "markdown",
   "metadata": {
    "id": "mD0HgFZD0c3G"
   },
   "source": [
    "## Putting it all together"
   ]
  },
  {
   "cell_type": "markdown",
   "metadata": {
    "id": "427V8xDR0c3O"
   },
   "source": [
    "The tree would inherit *AdderTree*.\n",
    "\n",
    "The main differences from *AdderTree* are:\n",
    "\n",
    "*   New nodes would need to be defined for pre-processing a constant bit of 1, pre-processing a constant bit of 0, and the two modified ■ nodes.\n",
    "*   The optimize_nodes() method would first call its super(), then it'd do additional things:\n",
    "\n",
    "1.   Somehow take in info about where the constant has 1's and 0's, and morph the pre-processing nodes.\n",
    "2.   Keep track of whether there's a chain of 0's on-going (can be done through the nodes' *leafs* attributes, which is a binary-encoded list of all the leafs that feed into a certain node), and then morphs the ■ node accordingly.\n",
    "\n"
   ]
  }
 ],
 "metadata": {
  "colab": {
   "collapsed_sections": [
    "jQN8hGT8d2SP",
    "SXMaK0sMij9Z",
    "eBXE41vm22Al",
    "X8i1W1666QNO",
    "9gLGG9R44qbE",
    "Zt3MwqN19hDF",
    "yiPa1k3N4g8e",
    "q4Q_G4hM4dsJ",
    "tEgmJ8zdIY8V",
    "oFD_NnAAEzkF",
    "cokd70l7Slsn",
    "vF_gzOc6HkW5",
    "BDW_rPEZHkW5",
    "2yX7FzLJbKZD",
    "mD0HgFZD0c3G"
   ],
   "name": "hardware_operations.ipynb",
   "provenance": []
  },
  "kernelspec": {
   "display_name": "Python 3 (ipykernel)",
   "language": "python",
   "name": "python3"
  },
  "language_info": {
   "codemirror_mode": {
    "name": "ipython",
    "version": 3
   },
   "file_extension": ".py",
   "mimetype": "text/x-python",
   "name": "python",
   "nbconvert_exporter": "python",
   "pygments_lexer": "ipython3",
   "version": "3.8.10"
  }
 },
 "nbformat": 4,
 "nbformat_minor": 4
}
